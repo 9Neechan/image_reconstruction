{
 "cells": [
  {
   "cell_type": "markdown",
   "metadata": {},
   "source": [
    "### Экстраполяция изображения фрагметов"
   ]
  },
  {
   "cell_type": "code",
   "execution_count": 1,
   "metadata": {},
   "outputs": [],
   "source": [
    "import matplotlib.pyplot as plt\n",
    "import cv2\n",
    "from Inpainter import Inpainter"
   ]
  },
  {
   "cell_type": "markdown",
   "metadata": {},
   "source": [
    "Пример использования (p.s. Считает долго)"
   ]
  },
  {
   "cell_type": "code",
   "execution_count": 2,
   "metadata": {},
   "outputs": [],
   "source": [
    "halfPatchWidth = 4\n",
    "resize_size = 250\n",
    "\n",
    "name = '6'\n",
    "e = 'png'\n",
    "\n",
    "# orig_img_name = f'../pics/{name}.{e}'\n",
    "# mask_img_name = f'../pics/{name}_.png'\n",
    "# result_img_name = f'../pics/{name}_result.jpg'\n",
    "\n",
    "orig_img_name = f'../pics/test1/split_results/fragment_1.png'\n",
    "mask_img_name = f'../pics/test1/extrapolation_masks/fragment_1.png'\n",
    "result_img_name = f'../pics/test1/extrapolation_results/fragment_1.png'"
   ]
  },
  {
   "cell_type": "code",
   "execution_count": null,
   "metadata": {},
   "outputs": [],
   "source": [
    "def inpaint(orig_img_name, mask_img_name, result_img_name, resize_size, halfPatchWidth):\n",
    "    originalImage = cv2.imread(orig_img_name)\n",
    "    originalImage = cv2.resize(originalImage, (resize_size, resize_size))\n",
    "    cv2.imshow('w', originalImage)\n",
    "\n",
    "    if originalImage is None:\n",
    "        print('Error: Unable to open Input image.')\n",
    "        exit(-1)\n",
    "\n",
    "    if len(originalImage.shape) == 2:\n",
    "        originalImage = cv2.cvtColor(originalImage, cv2.COLOR_GRAY2BGR)\n",
    "\n",
    "    mask = cv2.imread(mask_img_name)\n",
    "    inpaintMask = cv2.cvtColor(mask, cv2.COLOR_BGR2GRAY)\n",
    "    inpaintMask = cv2.resize(inpaintMask, (resize_size, resize_size))\n",
    "\n",
    "    if inpaintMask is None:\n",
    "        print('Error: Unable to open Mask image.')\n",
    "        exit(-1)\n",
    "\n",
    "    i = Inpainter(originalImage, inpaintMask, halfPatchWidth)\n",
    "    i.inpaint()\n",
    "\n",
    "    cv2.imwrite(result_img_name, i.result)\n",
    "\n",
    "    '''if i.checkValidInputs()== i.CHECK_VALID:\n",
    "        i.inpaint()\n",
    "        cv2.imwrite(result_img_name, i.result)\n",
    "    else:\n",
    "        print('Error: invalid parameters.')'''"
   ]
  },
  {
   "cell_type": "code",
   "execution_count": null,
   "metadata": {},
   "outputs": [
    {
     "name": "stdout",
     "output_type": "stream",
     "text": [
      "Inpainting started\n"
     ]
    },
    {
     "ename": "KeyboardInterrupt",
     "evalue": "",
     "output_type": "error",
     "traceback": [
      "\u001b[31m---------------------------------------------------------------------------\u001b[39m",
      "\u001b[31mKeyboardInterrupt\u001b[39m                         Traceback (most recent call last)",
      "\u001b[36mCell\u001b[39m\u001b[36m \u001b[39m\u001b[32mIn[4]\u001b[39m\u001b[32m, line 1\u001b[39m\n\u001b[32m----> \u001b[39m\u001b[32m1\u001b[39m \u001b[43minpaint\u001b[49m\u001b[43m(\u001b[49m\u001b[43morig_img_name\u001b[49m\u001b[43m,\u001b[49m\u001b[43m \u001b[49m\u001b[43mmask_img_name\u001b[49m\u001b[43m,\u001b[49m\u001b[43m \u001b[49m\u001b[43mresult_img_name\u001b[49m\u001b[43m,\u001b[49m\u001b[43m \u001b[49m\u001b[43mresize_size\u001b[49m\u001b[43m,\u001b[49m\u001b[43m \u001b[49m\u001b[43mhalfPatchWidth\u001b[49m\u001b[43m)\u001b[49m\n",
      "\u001b[36mCell\u001b[39m\u001b[36m \u001b[39m\u001b[32mIn[3]\u001b[39m\u001b[32m, line 22\u001b[39m, in \u001b[36minpaint\u001b[39m\u001b[34m(orig_img_name, mask_img_name, result_img_name, resize_size, halfPatchWidth)\u001b[39m\n\u001b[32m     19\u001b[39m     exit(-\u001b[32m1\u001b[39m)\n\u001b[32m     21\u001b[39m i = Inpainter(originalImage, inpaintMask, halfPatchWidth)\n\u001b[32m---> \u001b[39m\u001b[32m22\u001b[39m \u001b[43mi\u001b[49m\u001b[43m.\u001b[49m\u001b[43minpaint\u001b[49m\u001b[43m(\u001b[49m\u001b[43m)\u001b[49m\n\u001b[32m     24\u001b[39m cv2.imwrite(result_img_name, i.result)\n\u001b[32m     26\u001b[39m \u001b[38;5;250m\u001b[39m\u001b[33;03m'''if i.checkValidInputs()== i.CHECK_VALID:\u001b[39;00m\n\u001b[32m     27\u001b[39m \u001b[33;03m    i.inpaint()\u001b[39;00m\n\u001b[32m     28\u001b[39m \u001b[33;03m    cv2.imwrite(result_img_name, i.result)\u001b[39;00m\n\u001b[32m     29\u001b[39m \u001b[33;03melse:\u001b[39;00m\n\u001b[32m     30\u001b[39m \u001b[33;03m    print('Error: invalid parameters.')'''\u001b[39;00m\n",
      "\u001b[36mFile \u001b[39m\u001b[32mc:\\Users\\Maria\\Desktop\\dev\\image_reconstruction\\Inpainting\\Inpainter.py:274\u001b[39m, in \u001b[36mInpainter.computeBestPatch\u001b[39m\u001b[34m(self)\u001b[39m\n\u001b[32m    272\u001b[39m \u001b[38;5;28;01mfor\u001b[39;00m c \u001b[38;5;129;01min\u001b[39;00m \u001b[38;5;28mrange\u001b[39m(\u001b[32m3\u001b[39m):\n\u001b[32m    273\u001b[39m     difference = \u001b[38;5;28mfloat\u001b[39m(sourcePixel[c]) - \u001b[38;5;28mfloat\u001b[39m(targetPixel[c])\n\u001b[32m--> \u001b[39m\u001b[32m274\u001b[39m     patchError += math.pow(difference, \u001b[32m2\u001b[39m)\n\u001b[32m    275\u001b[39m meanR += sourcePixel[\u001b[32m0\u001b[39m]\n\u001b[32m    276\u001b[39m meanG += sourcePixel[\u001b[32m1\u001b[39m]\n",
      "\u001b[31mKeyboardInterrupt\u001b[39m: "
     ]
    }
   ],
   "source": [
    "inpaint(orig_img_name, mask_img_name, result_img_name, resize_size, halfPatchWidth)"
   ]
  }
 ],
 "metadata": {
  "kernelspec": {
   "display_name": ".venv",
   "language": "python",
   "name": "python3"
  },
  "language_info": {
   "codemirror_mode": {
    "name": "ipython",
    "version": 3
   },
   "file_extension": ".py",
   "mimetype": "text/x-python",
   "name": "python",
   "nbconvert_exporter": "python",
   "pygments_lexer": "ipython3",
   "version": "3.13.3"
  }
 },
 "nbformat": 4,
 "nbformat_minor": 2
}
