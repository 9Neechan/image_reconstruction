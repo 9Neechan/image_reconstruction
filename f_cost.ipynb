{
 "cells": [
  {
   "cell_type": "markdown",
   "metadata": {},
   "source": [
    "### Расчет Fcost"
   ]
  },
  {
   "cell_type": "code",
   "execution_count": 22,
   "metadata": {},
   "outputs": [],
   "source": [
    "import numpy as np\n",
    "import cv2\n",
    "import os\n",
    "from skimage.feature import graycomatrix, graycoprops, local_binary_pattern\n",
    "from scipy.spatial.distance import euclidean\n",
    "from glob import glob"
   ]
  },
  {
   "cell_type": "code",
   "execution_count": 23,
   "metadata": {},
   "outputs": [],
   "source": [
    "# --- Параметры ---\n",
    "LBP_RADIUS = 1\n",
    "LBP_N_POINTS = 8 * LBP_RADIUS\n",
    "LBP_METHOD = 'uniform'\n",
    "W_C = 100"
   ]
  },
  {
   "cell_type": "code",
   "execution_count": 24,
   "metadata": {},
   "outputs": [],
   "source": [
    "# --- Функции извлечения признаков ---\n",
    "def compute_glcm_features(image):\n",
    "    image_u8 = (image * 255).astype(np.uint8)\n",
    "    glcm = graycomatrix(image_u8, distances=[1], angles=[0], levels=256, symmetric=True, normed=True)\n",
    "    props = ['contrast', 'dissimilarity', 'homogeneity']\n",
    "    return np.array([graycoprops(glcm, p)[0, 0] for p in props])\n",
    "\n",
    "\n",
    "def compute_lbp_histogram(image):\n",
    "    lbp = local_binary_pattern(image, LBP_N_POINTS, LBP_RADIUS, method=LBP_METHOD)\n",
    "    hist, _ = np.histogram(lbp.ravel(), bins=np.arange(0, LBP_N_POINTS + 3),\n",
    "                           range=(0, LBP_N_POINTS + 2), density=True)\n",
    "    return hist[:3]  # первые 3 признака\n",
    "\n",
    "\n",
    "def compute_gradient_features(image):\n",
    "    grad_x = cv2.Sobel(image, cv2.CV_64F, 1, 0)\n",
    "    grad_y = cv2.Sobel(image, cv2.CV_64F, 0, 1)\n",
    "    magnitude = np.sqrt(grad_x**2 + grad_y**2)\n",
    "    return np.array([np.mean(magnitude), np.std(magnitude), np.max(magnitude)])\n",
    "\n",
    "\n",
    "# --- Загружаем фрагменты ---\n",
    "def load_fragments(folder):\n",
    "    paths = sorted(glob(os.path.join(folder, '*.png')))\n",
    "    fragments = [cv2.imread(p, cv2.IMREAD_GRAYSCALE) / 255.0 for p in paths]\n",
    "    return fragments\n",
    "\n",
    "\n",
    "# --- Достоверность: бинарная маска оригинальной области (не экстаполированная) ---\n",
    "def compute_confidence_map(fragment):\n",
    "    return (fragment > 0.05).astype(float)\n",
    "\n",
    "\n",
    "# --- Преобразование: здесь тождественное ---\n",
    "def transform(feature, T):\n",
    "    return feature"
   ]
  },
  {
   "cell_type": "code",
   "execution_count": 25,
   "metadata": {},
   "outputs": [],
   "source": [
    "def compute_f_cost(fragments, w_c=1000):\n",
    "    n_p = len(fragments)\n",
    "    n_k = 3\n",
    "    Th_k = np.array([0.5, 0.5, 0.5])\n",
    "    w_k = 1 / Th_k\n",
    "\n",
    "    features = np.zeros((n_p, n_k, 3))\n",
    "    confidences = np.zeros((n_p, n_k))\n",
    "    L_map = []\n",
    "\n",
    "    for i, img in enumerate(fragments):\n",
    "        features[i][0] = compute_glcm_features(img)\n",
    "        features[i][1] = compute_lbp_histogram(img)\n",
    "        features[i][2] = compute_gradient_features(img)\n",
    "        c_map = compute_confidence_map(img)\n",
    "        confidences[i] = [np.mean(c_map)] * n_k\n",
    "        L_map.append((c_map > 0.5).astype(int))\n",
    "\n",
    "    # --- m1: сходство текстур ---\n",
    "    total_similarity = 0.0\n",
    "    total_confidence = 0.0\n",
    "    for i in range(n_p):\n",
    "        for j in range(i+1, n_p):\n",
    "            for k in range(n_k):\n",
    "                D = euclidean(features[i][k], features[j][k])\n",
    "                S = w_k[k] * (D - 1)\n",
    "                C_i = confidences[i][k]\n",
    "                C_j = confidences[j][k]\n",
    "                total_similarity += S * C_i * C_j\n",
    "                total_confidence += C_i\n",
    "\n",
    "    m1 = total_similarity / total_confidence if total_confidence != 0 else 0\n",
    "\n",
    "    # --- m2: геометрические ограничения (пересечения) ---\n",
    "    m2 = 0\n",
    "    for i in range(n_p):\n",
    "        for j in range(i+1, n_p):\n",
    "            overlap = np.logical_and(L_map[i], L_map[j])\n",
    "            m2 += np.sum(overlap)\n",
    "\n",
    "    F_cost = m1 + w_c * m2\n",
    "\n",
    "    print(f'm1 = {m1}, m2 * w_c = {w_c*m2}, m2 = {m2}')\n",
    "\n",
    "    return F_cost\n"
   ]
  },
  {
   "cell_type": "markdown",
   "metadata": {},
   "source": [
    "Пример использования"
   ]
  },
  {
   "cell_type": "code",
   "execution_count": 26,
   "metadata": {},
   "outputs": [
    {
     "name": "stdout",
     "output_type": "stream",
     "text": [
      "m1 = 1.3683052580812403, m2 * w_c = 0, m2 = 0\n",
      "F_cost = 1.3683\n"
     ]
    },
    {
     "name": "stderr",
     "output_type": "stream",
     "text": [
      "/opt/miniconda3/lib/python3.12/site-packages/skimage/feature/texture.py:385: UserWarning: Applying `local_binary_pattern` to floating-point images may give unexpected results when small numerical differences between adjacent pixels are present. It is recommended to use this function with images of integer dtype.\n",
      "  warnings.warn(\n"
     ]
    }
   ],
   "source": [
    "fragments = load_fragments('pics/split_results/mask2')  # <- путь к твоим фрагментам\n",
    "cost = compute_f_cost(fragments, w_c=W_C)\n",
    "print(f\"F_cost = {cost:.4f}\")"
   ]
  }
 ],
 "metadata": {
  "kernelspec": {
   "display_name": "base",
   "language": "python",
   "name": "python3"
  },
  "language_info": {
   "codemirror_mode": {
    "name": "ipython",
    "version": 3
   },
   "file_extension": ".py",
   "mimetype": "text/x-python",
   "name": "python",
   "nbconvert_exporter": "python",
   "pygments_lexer": "ipython3",
   "version": "3.12.2"
  }
 },
 "nbformat": 4,
 "nbformat_minor": 2
}
