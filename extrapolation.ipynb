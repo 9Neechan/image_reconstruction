{
 "cells": [
  {
   "cell_type": "code",
   "execution_count": 1,
   "metadata": {},
   "outputs": [],
   "source": [
    "from Inpainting.Inpainter import Inpainter\n",
    "import matplotlib.pyplot as plt\n",
    "import cv2\n",
    "from pathlib import Path\n",
    "from common_functions import show"
   ]
  },
  {
   "cell_type": "code",
   "execution_count": 2,
   "metadata": {},
   "outputs": [],
   "source": [
    "def contour_mask(img, gray, save_path, pixel_border):\n",
    "    # Применение фильтрации Гаусса для сглаживания изображения и уменьшения шума\n",
    "    blurred = cv2.GaussianBlur(gray, (1, 1), 0) \n",
    "    \n",
    "    # Применение алгоритма Кэнни для обнаружения границ\n",
    "    edges = cv2.Canny(blurred, 50, 150)\n",
    "    \n",
    "    # Отрисовка контуров \n",
    "    _, binary_mask = cv2.threshold(gray, 240, 255, cv2.THRESH_BINARY_INV)\n",
    "    colored_part = cv2.bitwise_and(img, img, mask=binary_mask)\n",
    "    binary_image = cv2.cvtColor(colored_part, cv2.COLOR_RGB2GRAY)\n",
    "    _, binary_image = cv2.threshold(binary_image, 1, 255, cv2.THRESH_BINARY)\n",
    "    dilated = cv2.dilate(edges.copy(), None, iterations=pixel_border)\n",
    "    mask = cv2.bitwise_not(binary_image)\n",
    "    contour_image = cv2.bitwise_and(cv2.cvtColor(dilated, cv2.COLOR_GRAY2BGR), cv2.cvtColor(mask, cv2.COLOR_GRAY2BGR))\n",
    "    \n",
    "    # Отображение результатов\n",
    "    show(contour_image)\n",
    "\n",
    "    cv2.imwrite(save_path, contour_image)"
   ]
  },
  {
   "cell_type": "code",
   "execution_count": 3,
   "metadata": {},
   "outputs": [],
   "source": [
    "def inpaint(orig_img_name, mask_img_name, result_img_name, resize_size, halfPatchWidth):\n",
    "    originalImage = cv2.imread(orig_img_name)\n",
    "    originalImage = cv2.resize(originalImage, (resize_size, resize_size))\n",
    "\n",
    "    if originalImage is None:\n",
    "        print('Error: Unable to open Input image.')\n",
    "        exit(-1)\n",
    "\n",
    "\n",
    "    mask = cv2.imread(mask_img_name)\n",
    "    inpaintMask = cv2.cvtColor(mask, cv2.COLOR_BGR2GRAY)\n",
    "    inpaintMask = cv2.resize(inpaintMask, (resize_size, resize_size))\n",
    "\n",
    "    if inpaintMask is None:\n",
    "        print('Error: Unable to open Mask image.')\n",
    "        exit(-1)\n",
    "\n",
    "    i = Inpainter(originalImage, inpaintMask, halfPatchWidth)\n",
    "    i.inpaint()\n",
    "\n",
    "    cv2.imwrite(result_img_name, i.result)\n",
    "\n",
    "    # if i.checkValidInputs()== i.CHECK_VALID:\n",
    "    #     i.inpaint()\n",
    "    #     cv2.imwrite(result_img_name, i.result)\n",
    "    # else:\n",
    "    #     print('Error: invalid parameters.')"
   ]
  },
  {
   "cell_type": "markdown",
   "metadata": {},
   "source": [
    "### test1"
   ]
  },
  {
   "cell_type": "code",
   "execution_count": 4,
   "metadata": {},
   "outputs": [
    {
     "name": "stdout",
     "output_type": "stream",
     "text": [
      "['fragment_1.png', 'fragment_2.png', 'fragment_3.png', 'fragment_4.png', 'fragment_5.png', 'fragment_6.png']\n"
     ]
    }
   ],
   "source": [
    "folder_path = Path(\"pics/test1/split_results_all\")\n",
    "file_names = [f.name for f in folder_path.iterdir() if f.is_file()]\n",
    "\n",
    "print(file_names)\n"
   ]
  },
  {
   "cell_type": "code",
   "execution_count": null,
   "metadata": {},
   "outputs": [],
   "source": [
    "pixel_border = 45\n",
    "\n",
    "for i in range(len(file_names)):\n",
    "    image = cv2.imread(f'pics/test1/split_results_all/{file_names[i]}')\n",
    "    save_path = f'pics/test1/extrapolation_masks/{file_names[i]}'\n",
    "    \n",
    "    img = cv2.cvtColor(image,cv2.COLOR_BGR2RGB)\n",
    "    gray = cv2.cvtColor(img, cv2.COLOR_BGR2GRAY)\n",
    "\n",
    "    contour_mask(img, gray, save_path, pixel_border)"
   ]
  },
  {
   "cell_type": "code",
   "execution_count": null,
   "metadata": {},
   "outputs": [],
   "source": [
    "halfPatchWidth = 4\n",
    "resize_size = 250\n",
    "\n",
    "for i in range(len(file_names)):\n",
    "    orig_img_name = f'pics/test1/split_results_all/{file_names[i]}'\n",
    "    mask_img_name = f'pics/test1/extrapolation_masks/{file_names[i]}'\n",
    "    result_img_name = f'pics/test1/extrapolation_results/{file_names[i]}'\n",
    "\n",
    "    inpaint(orig_img_name, mask_img_name, result_img_name, resize_size, halfPatchWidth)"
   ]
  },
  {
   "cell_type": "markdown",
   "metadata": {},
   "source": [
    "### test2"
   ]
  },
  {
   "cell_type": "code",
   "execution_count": 7,
   "metadata": {},
   "outputs": [
    {
     "name": "stdout",
     "output_type": "stream",
     "text": [
      "['fragment_1.png', 'fragment_2.png', 'fragment_3.png', 'fragment_4.png', 'fragment_5.png']\n"
     ]
    }
   ],
   "source": [
    "folder_path = Path(\"pics/test2/split_results_all\")\n",
    "file_names2 = [f.name for f in folder_path.iterdir() if f.is_file()]\n",
    "\n",
    "print(file_names2)\n",
    "\n",
    "file_names2 = [ 'fragment_5.png']"
   ]
  },
  {
   "cell_type": "code",
   "execution_count": null,
   "metadata": {},
   "outputs": [],
   "source": [
    "pixel_border = 70\n",
    "\n",
    "for i in range(len(file_names2)):\n",
    "    image = cv2.imread(f'pics/test2/split_results_all/{file_names2[i]}')\n",
    "    save_path = f'pics/test2/extrapolation_masks/{file_names2[i]}'\n",
    "    \n",
    "    img = cv2.cvtColor(image,cv2.COLOR_BGR2RGB)\n",
    "    gray = cv2.cvtColor(img, cv2.COLOR_BGR2GRAY)\n",
    "\n",
    "    contour_mask(img, gray, save_path, pixel_border)"
   ]
  },
  {
   "cell_type": "code",
   "execution_count": null,
   "metadata": {},
   "outputs": [
    {
     "name": "stdout",
     "output_type": "stream",
     "text": [
      "Inpainting started\n"
     ]
    }
   ],
   "source": [
    "halfPatchWidth = 4\n",
    "resize_size = 250\n",
    "\n",
    "for i in range(len(file_names2)):\n",
    "    orig_img_name = f'pics/test2/split_results_all/{file_names2[i]}'\n",
    "    mask_img_name = f'pics/test2/extrapolation_masks/{file_names2[i]}'\n",
    "    result_img_name = f'pics/test2/extrapolation_results/{file_names2[i]}'\n",
    "\n",
    "    inpaint(orig_img_name, mask_img_name, result_img_name, resize_size, halfPatchWidth)"
   ]
  }
 ],
 "metadata": {
  "kernelspec": {
   "display_name": ".venv",
   "language": "python",
   "name": "python3"
  },
  "language_info": {
   "codemirror_mode": {
    "name": "ipython",
    "version": 3
   },
   "file_extension": ".py",
   "mimetype": "text/x-python",
   "name": "python",
   "nbconvert_exporter": "python",
   "pygments_lexer": "ipython3",
   "version": "3.13.3"
  }
 },
 "nbformat": 4,
 "nbformat_minor": 2
}
