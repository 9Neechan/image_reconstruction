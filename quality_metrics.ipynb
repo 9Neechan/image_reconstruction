{
 "cells": [
  {
   "cell_type": "markdown",
   "metadata": {},
   "source": [
    "### Метрики оценки качества сборки (финальной)"
   ]
  },
  {
   "cell_type": "code",
   "execution_count": 6,
   "metadata": {},
   "outputs": [],
   "source": [
    "import cv2\n",
    "import numpy as np\n",
    "from skimage.feature import  local_binary_pattern\n",
    "from scipy.spatial.distance import euclidean\n",
    "from skimage.feature import graycomatrix, graycoprops"
   ]
  },
  {
   "cell_type": "markdown",
   "metadata": {},
   "source": [
    "### TSI (LBP, GLCM)"
   ]
  },
  {
   "cell_type": "code",
   "execution_count": 7,
   "metadata": {},
   "outputs": [],
   "source": [
    "# Параметры LBP\n",
    "LBP_RADIUS = 1\n",
    "LBP_N_POINTS = 8 * LBP_RADIUS\n",
    "LBP_METHOD = 'uniform'\n",
    "\n",
    "\n",
    "def compute_glcm_features(image):\n",
    "    image = (image * 255).astype(np.uint8)\n",
    "    distances = [1]\n",
    "    angles = [0, np.pi/4, np.pi/2, 3*np.pi/4]\n",
    "    glcm = graycomatrix(image, distances=distances, angles=angles, levels=256, symmetric=True, normed=True)\n",
    "    props = ['contrast', 'dissimilarity', 'homogeneity', 'energy', 'correlation', 'ASM']\n",
    "    features = [np.mean(graycoprops(glcm, p)) for p in props]\n",
    "    return np.array(features)\n",
    "\n",
    "\n",
    "def compute_lbp_histogram(image):\n",
    "    lbp = local_binary_pattern(image, LBP_N_POINTS, LBP_RADIUS, method=LBP_METHOD)\n",
    "    hist, _ = np.histogram(lbp.ravel(), bins=np.arange(0, LBP_N_POINTS + 3), range=(0, LBP_N_POINTS + 2), density=True)\n",
    "    return hist\n",
    "\n",
    "\n",
    "def compute_texture_similarity(feature1, feature2):\n",
    "    distance = euclidean(feature1, feature2)\n",
    "    return 1 / (1 + distance)\n",
    "\n",
    "\n",
    "def compute_texture_similarity_components(img1, img2):\n",
    "    gray1 = cv2.cvtColor(img1, cv2.COLOR_BGR2GRAY) / 255.0\n",
    "    gray2 = cv2.cvtColor(img2, cv2.COLOR_BGR2GRAY) / 255.0\n",
    "\n",
    "    glcm1 = compute_glcm_features(gray1)\n",
    "    glcm2 = compute_glcm_features(gray2)\n",
    "\n",
    "    lbp1 = compute_lbp_histogram(gray1)\n",
    "    lbp2 = compute_lbp_histogram(gray2)\n",
    "\n",
    "    tsi_glcm = compute_texture_similarity(glcm1, glcm2)\n",
    "    tsi_lbp = compute_texture_similarity(lbp1, lbp2)\n",
    "\n",
    "    return tsi_glcm, tsi_lbp\n"
   ]
  },
  {
   "cell_type": "code",
   "execution_count": 8,
   "metadata": {},
   "outputs": [
    {
     "name": "stdout",
     "output_type": "stream",
     "text": [
      "TSI (GLCM): 0.081\n",
      "TSI (LBP):  0.864\n"
     ]
    }
   ],
   "source": [
    "img1 = cv2.imread('pics/1.png')\n",
    "img2 = cv2.imread('pics/1_.png')\n",
    "\n",
    "tsi_glcm, tsi_lbp = compute_texture_similarity_components(img1, img2)\n",
    "print(f\"TSI (GLCM): {tsi_glcm:.3f}\")\n",
    "print(f\"TSI (LBP):  {tsi_lbp:.3f}\")\n"
   ]
  },
  {
   "cell_type": "markdown",
   "metadata": {},
   "source": [
    "### Euclidean Matching Accuracy (MA)"
   ]
  },
  {
   "cell_type": "code",
   "execution_count": 9,
   "metadata": {},
   "outputs": [],
   "source": [
    "def euclidean_matching_accuracy(predicted, ground_truth):\n",
    "    \"\"\"\n",
    "    Compute the Euclidean Matching Accuracy (MA) between predicted and ground truth points.\n",
    "\n",
    "    Parameters:\n",
    "        predicted (np.ndarray): Array of shape (N, 2) with predicted (x, y) coordinates.\n",
    "        ground_truth (np.ndarray): Array of shape (N, 2) with true (x, y) coordinates.\n",
    "\n",
    "    Returns:\n",
    "        float: Mean Euclidean distance (MA).\n",
    "    \"\"\"\n",
    "    predicted = np.asarray(predicted)\n",
    "    ground_truth = np.asarray(ground_truth)\n",
    "\n",
    "    if predicted.shape != ground_truth.shape:\n",
    "        raise ValueError(\"predicted and ground_truth must have the same shape\")\n",
    "\n",
    "    distances = np.linalg.norm(predicted - ground_truth, axis=1)\n",
    "    mean_accuracy = np.mean(distances)\n",
    "    return mean_accuracy"
   ]
  },
  {
   "cell_type": "markdown",
   "metadata": {},
   "source": [
    "Пример использования"
   ]
  },
  {
   "cell_type": "code",
   "execution_count": 10,
   "metadata": {},
   "outputs": [
    {
     "name": "stdout",
     "output_type": "stream",
     "text": [
      "Euclidean Matching Accuracy (MA): 0.759 pixels\n"
     ]
    }
   ],
   "source": [
    "# Пример координат\n",
    "pred_points = np.array([\n",
    "    [100.5, 200.4],\n",
    "    [150.1, 300.2],\n",
    "    [250.0, 400.0]\n",
    "])\n",
    "\n",
    "true_points = np.array([\n",
    "    [100.0, 200.0],\n",
    "    [150.0, 300.0],\n",
    "    [251.0, 401.0]\n",
    "])\n",
    "\n",
    "ma = euclidean_matching_accuracy(pred_points, true_points)\n",
    "print(f\"Euclidean Matching Accuracy (MA): {ma:.3f} pixels\")\n"
   ]
  }
 ],
 "metadata": {
  "kernelspec": {
   "display_name": "base",
   "language": "python",
   "name": "python3"
  },
  "language_info": {
   "codemirror_mode": {
    "name": "ipython",
    "version": 3
   },
   "file_extension": ".py",
   "mimetype": "text/x-python",
   "name": "python",
   "nbconvert_exporter": "python",
   "pygments_lexer": "ipython3",
   "version": "3.12.2"
  }
 },
 "nbformat": 4,
 "nbformat_minor": 2
}
