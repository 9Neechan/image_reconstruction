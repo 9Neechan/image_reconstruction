{
 "cells": [
  {
   "cell_type": "markdown",
   "metadata": {},
   "source": [
    "### Разбиение фрески на фрагменты с помощью наложения маски"
   ]
  },
  {
   "cell_type": "code",
   "execution_count": 55,
   "metadata": {},
   "outputs": [],
   "source": [
    "import cv2\n",
    "import numpy as np\n",
    "import os\n",
    "from common_functions import show"
   ]
  },
  {
   "cell_type": "code",
   "execution_count": 56,
   "metadata": {},
   "outputs": [],
   "source": [
    "def extract_and_save_contours(image_path, output_dir, original_image_path, erosion_kernel, erosion_iterations):\n",
    "    # Загружаем изображение в градациях серого\n",
    "    binary_image = cv2.imread(image_path, cv2.IMREAD_GRAYSCALE)\n",
    "    original_image = cv2.imread(original_image_path, cv2.IMREAD_GRAYSCALE)\n",
    "\n",
    "    if binary_image is None or original_image is None:\n",
    "        raise ValueError(\"Не удалось загрузить изображение.\")\n",
    "\n",
    "    if binary_image.shape[0] != original_image.shape[0] or binary_image.shape[1] != original_image.shape[1]:\n",
    "        print(binary_image.shape, original_image.shape)\n",
    "        raise ValueError(\"Размеры изображений не совпадают\")\n",
    "    \n",
    "    kernel = np.ones(erosion_kernel, np.uint8)  # Ядро для эрозии\n",
    "    binary_image = cv2.erode(binary_image, kernel, iterations=erosion_iterations)\n",
    "\n",
    "    top, bottom, left, right = 50, 50, 50, 50  # Толщина рамки (в пикселях) со всех сторон\n",
    "    border_color = 0\n",
    "    binary_image = cv2.copyMakeBorder(\n",
    "        binary_image,\n",
    "        top,\n",
    "        bottom,\n",
    "        left,\n",
    "        right,\n",
    "        borderType=cv2.BORDER_CONSTANT,\n",
    "        value=border_color\n",
    "    )\n",
    "\n",
    "    original_image = cv2.copyMakeBorder(\n",
    "        original_image,\n",
    "        top,\n",
    "        bottom,\n",
    "        left,\n",
    "        right,\n",
    "        borderType=cv2.BORDER_CONSTANT,\n",
    "        value=border_color\n",
    "    )\n",
    "\n",
    "\n",
    "    # Создаем директорию для сохранения выходных изображений\n",
    "    if not os.path.exists(output_dir):\n",
    "        os.makedirs(output_dir)\n",
    "\n",
    "    # Находим границы с использованием Canny \n",
    "    edges = cv2.Canny(binary_image, 0, 255)\n",
    "    show(edges)\n",
    "\n",
    "    # Находим контуры\n",
    "    contours, _ = cv2.findContours(edges, cv2.RETR_EXTERNAL, cv2.CHAIN_APPROX_SIMPLE)\n",
    "\n",
    "    # Перебираем найденные контуры\n",
    "    fragment_count = 0\n",
    "    for contour in contours:\n",
    "        # Фильтруем контуры по площади\n",
    "        area = cv2.contourArea(contour)\n",
    "        if area < 50:  # Игнорируем слишком маленькие контуры\n",
    "            continue\n",
    "\n",
    "        # Создаем маску с текущим контуром\n",
    "        mask = np.ones_like(binary_image, dtype=np.uint8) * 255\n",
    "        cv2.drawContours(mask, [contour], -1, (0,), thickness=cv2.FILLED)\n",
    "        mask = cv2.bitwise_not(mask)\n",
    "        #show(mask)\n",
    "\n",
    "        # Исходные\n",
    "        # Применяем маску к исходному изображению\n",
    "        fragment = cv2.bitwise_and(original_image, original_image, mask=mask)\n",
    "\n",
    "        # Сохраняем результат\n",
    "        output_path = os.path.join(output_dir, f\"fragment_{fragment_count + 1}.png\")\n",
    "        cv2.imwrite(output_path, fragment)\n",
    "        #show(fragment)\n",
    "\n",
    "\n",
    "        # # Экстраполированные\n",
    "        # mask = cv2.dilate(mask.copy(), None, iterations=50)\n",
    "        # fragment = cv2.bitwise_and(original_image, original_image, mask=mask)\n",
    "\n",
    "        # # Сохраняем результат\n",
    "        # output_path = os.path.join(output_dir, f\"fragment_{fragment_count + 1}_.png\")\n",
    "        # cv2.imwrite(output_path, fragment)\n",
    "\n",
    "\n",
    "        fragment_count += 1\n",
    "\n",
    "    print(f\"Обработка завершена. Сохранено {fragment_count} фрагментов в папке: {output_dir}\")"
   ]
  },
  {
   "cell_type": "markdown",
   "metadata": {},
   "source": [
    "Пример использования"
   ]
  },
  {
   "cell_type": "code",
   "execution_count": 57,
   "metadata": {},
   "outputs": [],
   "source": [
    "# input_image_path = \"pics/split_masks/mask2.jpg\"  # Укажите путь к бинарному изображению\n",
    "# output_directory = \"pics/split_results/mask2_1\"  # Укажите папку для сохранения фрагментов\n",
    "# original_image_path = \"pics/fr (1).jpg\"  # Укажите путь к исходному изображению"
   ]
  },
  {
   "cell_type": "markdown",
   "metadata": {},
   "source": [
    "### test1"
   ]
  },
  {
   "cell_type": "code",
   "execution_count": 81,
   "metadata": {},
   "outputs": [
    {
     "name": "stdout",
     "output_type": "stream",
     "text": [
      "Обработка завершена. Сохранено 6 фрагментов в папке: pics/test1/split_results/\n"
     ]
    },
    {
     "data": {
      "image/png": "[encoded data removed]",
      "text/plain": [
       "<Figure size 640x480 with 1 Axes>"
      ]
     },
     "metadata": {},
     "output_type": "display_data"
    }
   ],
   "source": [
    "erosion_kernel = (5, 5)\n",
    "erosion_iterations = 1\n",
    "\n",
    "input_image_path = \"pics/test1/mask_prepared.png\"  # Укажите путь к бинарному изображению\n",
    "output_directory = \"pics/test1/split_results/\"  # Укажите папку для сохранения фрагментов\n",
    "original_image_path = \"pics/test1/bordered.png\"  # Укажите путь к исходному изображению\n",
    "\n",
    "extract_and_save_contours(input_image_path, output_directory, original_image_path, erosion_kernel, erosion_iterations)"
   ]
  },
  {
   "cell_type": "markdown",
   "metadata": {},
   "source": [
    "### test2"
   ]
  },
  {
   "cell_type": "code",
   "execution_count": 80,
   "metadata": {},
   "outputs": [
    {
     "name": "stdout",
     "output_type": "stream",
     "text": [
      "Обработка завершена. Сохранено 5 фрагментов в папке: pics/test2/split_results/\n",
      "Обработка завершена. Сохранено 5 фрагментов в папке: pics/test2/split_results2/\n"
     ]
    },
    {
     "data": {
      "image/png": "[encoded data removed]",
      "text/plain": [
       "<Figure size 640x480 with 1 Axes>"
      ]
     },
     "metadata": {},
     "output_type": "display_data"
    }
   ],
   "source": [
    "input_image_path = \"pics/test2/mask_prepared.png\"  # Укажите путь к бинарному изображению\n",
    "original_image_path = \"pics/test2/bordered.png\"  # Укажите путь к исходному изображению\n",
    "\n",
    "erosion_kernel = (6, 6)\n",
    "erosion_iterations = 1\n",
    "output_directory = \"pics/test2/split_results/\"  # Укажите папку для сохранения фрагментов\n",
    "extract_and_save_contours(input_image_path, output_directory, original_image_path, erosion_kernel, erosion_iterations)\n",
    "\n",
    "erosion_kernel = (5, 5)\n",
    "erosion_iterations = 1\n",
    "output_directory = \"pics/test2/split_results2/\"  # Укажите папку для сохранения фрагментов\n",
    "extract_and_save_contours(input_image_path, output_directory, original_image_path, erosion_kernel, erosion_iterations)"
   ]
  }
 ],
 "metadata": {
  "kernelspec": {
   "display_name": "base",
   "language": "python",
   "name": "python3"
  },
  "language_info": {
   "codemirror_mode": {
    "name": "ipython",
    "version": 3
   },
   "file_extension": ".py",
   "mimetype": "text/x-python",
   "name": "python",
   "nbconvert_exporter": "python",
   "pygments_lexer": "ipython3",
   "version": "3.12.2"
  }
 },
 "nbformat": 4,
 "nbformat_minor": 2
}
